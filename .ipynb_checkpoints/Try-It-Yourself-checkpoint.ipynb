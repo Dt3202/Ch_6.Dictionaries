{
 "cells": [
  {
   "cell_type": "code",
   "execution_count": 10,
   "metadata": {},
   "outputs": [
    {
     "name": "stdout",
     "output_type": "stream",
     "text": [
      "{'first_name': 'Jennifer', 'last_name': 'Thompson', 'age': 39, 'city': 'Tea'}\n"
     ]
    }
   ],
   "source": [
    "#6-1 Person\n",
    "jennifer_Bio = {\n",
    "    'first_name':'Jennifer',\n",
    "    'last_name':'Thompson',\n",
    "    'age':39,\n",
    "    'city':'Tea',\n",
    "}\n",
    "print(jennifer_Bio)"
   ]
  },
  {
   "cell_type": "code",
   "execution_count": 16,
   "metadata": {},
   "outputs": [
    {
     "name": "stdout",
     "output_type": "stream",
     "text": [
      "My favorite number is 13\n",
      "Jarrod's favorite number is 13\n",
      "Kellen's favorite number is 100\n",
      "kyzek's favorite number is 6\n",
      "Jesses favorite number is 214\n"
     ]
    }
   ],
   "source": [
    "#6-2 Favorite Number\n",
    "number_fav = {\n",
    "    'Drayzdin':13,\n",
    "    'Kellen':100,\n",
    "    'Jarrod':13,\n",
    "    'Jesse':214,\n",
    "    'kyzek':6,\n",
    "}\n",
    "print('My favorite number is ' + str(number_fav['Drayzdin']))\n",
    "print(\"Jarrod's favorite number is \" + str(number_fav['Jarrod']))\n",
    "print(\"Kellen's favorite number is \" + str(number_fav['Kellen']))\n",
    "print(\"kyzek's favorite number is \" + str(number_fav['kyzek']))\n",
    "print(\"Jesses favorite number is \" + str(number_fav['Jesse']))\n"
   ]
  },
  {
   "cell_type": "code",
   "execution_count": 19,
   "metadata": {},
   "outputs": [
    {
     "name": "stdout",
     "output_type": "stream",
     "text": [
      "Boolean Logic: Statement evaluates to true or false.\n",
      "Conditional Statement: if then statement.\n",
      "Iterable: A property of collections that are used to provide elements one at a time and in sequence .\n",
      "Sliced: Selecting a portion of a collection.\n",
      "Tuple: A native type in python that can store a collection but cannot assign new values to individual elements .\n"
     ]
    }
   ],
   "source": [
    "# 6-3 Glossary\n",
    "glossary = {\n",
    "    'Boolean Logic' : 'Statement evaluates to true or false',\n",
    "    'Conditional Statement':'if then statement',\n",
    "    'Iterable': 'A property of collections that are used to provide elements one at a time and in sequence ',\n",
    "    'Sliced':'Selecting a portion of a collection',\n",
    "    'Concatenation':'Attaching two things side-by-side, frequently strings of text',\n",
    "    'Tuple': 'A native type in python that can store a collection but cannot assign new values to individual elements ',\n",
    "}\n",
    "\n",
    "print('Boolean Logic: ' + glossary['Boolean Logic'] + '.')\n",
    "print('Conditional Statement: ' + glossary['Conditional Statement'] + '.')\n",
    "print('Iterable: ' + glossary['Iterable'] + '.')\n",
    "print('Sliced: ' + glossary['Sliced'] + '.')\n",
    "print('Tuple: ' + glossary['Tuple'] + '.')"
   ]
  },
  {
   "cell_type": "code",
   "execution_count": null,
   "metadata": {},
   "outputs": [],
   "source": []
  }
 ],
 "metadata": {
  "kernelspec": {
   "display_name": "Python 3",
   "language": "python",
   "name": "python3"
  },
  "language_info": {
   "codemirror_mode": {
    "name": "ipython",
    "version": 3
   },
   "file_extension": ".py",
   "mimetype": "text/x-python",
   "name": "python",
   "nbconvert_exporter": "python",
   "pygments_lexer": "ipython3",
   "version": "3.7.4"
  }
 },
 "nbformat": 4,
 "nbformat_minor": 2
}
