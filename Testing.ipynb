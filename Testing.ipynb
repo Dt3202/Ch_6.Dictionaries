{
 "cells": [
  {
   "cell_type": "code",
   "execution_count": 7,
   "metadata": {},
   "outputs": [
    {
     "name": "stdout",
     "output_type": "stream",
     "text": [
      "Green\n"
     ]
    }
   ],
   "source": [
    "alien_0 = {'color': 'Green', 'points' : 5}\n",
    "\n",
    "print(alien_0['color'])"
   ]
  },
  {
   "cell_type": "code",
   "execution_count": 10,
   "metadata": {},
   "outputs": [
    {
     "name": "stdout",
     "output_type": "stream",
     "text": [
      "{'color': 'Green', 'points': 5, 'y_position': 25, 'x_position': 0}\n",
      "{'color': 'Green', 'points': 5, 'y_position': 25, 'x_position': 0}\n"
     ]
    }
   ],
   "source": [
    "print(alien_0)\n",
    "alien_0['y_position'] = 25\n",
    "alien_0['x_position'] = 0\n",
    "print(alien_0)"
   ]
  },
  {
   "cell_type": "code",
   "execution_count": 5,
   "metadata": {},
   "outputs": [
    {
     "name": "stdout",
     "output_type": "stream",
     "text": [
      "{'points': 5, 'color': 'green'}\n"
     ]
    }
   ],
   "source": [
    "alien_1 = {}\n",
    "alien_1['points'] = 5\n",
    "alien_1['color'] = 'green'\n",
    "print(alien_1)\n"
   ]
  },
  {
   "cell_type": "code",
   "execution_count": 4,
   "metadata": {},
   "outputs": [
    {
     "name": "stdout",
     "output_type": "stream",
     "text": [
      "green\n",
      "yellow\n"
     ]
    }
   ],
   "source": [
    "alien_1 = {'color': 'Green'}\n",
    "alien_1['color'] = 'green'\n",
    "print(alien_1['color'])\n",
    "alien_1['color'] = 'yellow'\n",
    "print(alien_1['color'])"
   ]
  },
  {
   "cell_type": "code",
   "execution_count": 12,
   "metadata": {},
   "outputs": [
    {
     "name": "stdout",
     "output_type": "stream",
     "text": [
      "original x_position: 0\n",
      "New x_position: 2\n"
     ]
    }
   ],
   "source": [
    "alien_2 = {'x_position': 0, 'speed': 'medium'}\n",
    "print('original x_position: ' + str(alien_2['x_position']))\n",
    "if alien_2['speed'] == 'slow':\n",
    "    x_increment = 1\n",
    "elif alien_2['speed'] == 'medium':\n",
    "    x_increment = 2\n",
    "else:\n",
    "    x_increment = 3\n",
    "alien_2['x_position'] += alien_2['x_position'] + x_increment\n",
    "print('New x_position: ' + str(alien_2['x_position']))"
   ]
  },
  {
   "cell_type": "code",
   "execution_count": 13,
   "metadata": {},
   "outputs": [
    {
     "name": "stdout",
     "output_type": "stream",
     "text": [
      "{'x_position': 0}\n"
     ]
    }
   ],
   "source": [
    "alien_3 = {'x_position': 0, 'speed': 'medium'}\n",
    "del alien_3['speed']\n",
    "print(alien_3)"
   ]
  },
  {
   "cell_type": "code",
   "execution_count": 16,
   "metadata": {},
   "outputs": [
    {
     "name": "stdout",
     "output_type": "stream",
     "text": [
      "Sarah's favorite language is C.\n"
     ]
    }
   ],
   "source": [
    "favorite_languages = {\n",
    "    'jen':'python',\n",
    "    'sarah':'c',\n",
    "}\n",
    "\n",
    "print(\"Sarah's favorite language is \" + favorite_languages['sarah'].title() + \".\")"
   ]
  },
  {
   "cell_type": "code",
   "execution_count": null,
   "metadata": {},
   "outputs": [],
   "source": []
  }
 ],
 "metadata": {
  "kernelspec": {
   "display_name": "Python 3",
   "language": "python",
   "name": "python3"
  },
  "language_info": {
   "codemirror_mode": {
    "name": "ipython",
    "version": 3
   },
   "file_extension": ".py",
   "mimetype": "text/x-python",
   "name": "python",
   "nbconvert_exporter": "python",
   "pygments_lexer": "ipython3",
   "version": "3.7.4"
  }
 },
 "nbformat": 4,
 "nbformat_minor": 2
}
