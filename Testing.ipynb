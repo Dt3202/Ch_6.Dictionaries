{
 "cells": [
  {
   "cell_type": "code",
   "execution_count": 7,
   "metadata": {},
   "outputs": [
    {
     "name": "stdout",
     "output_type": "stream",
     "text": [
      "Green\n"
     ]
    }
   ],
   "source": [
    "alien_0 = {'color': 'Green', 'points' : 5}\n",
    "\n",
    "print(alien_0['color'])"
   ]
  },
  {
   "cell_type": "code",
   "execution_count": 10,
   "metadata": {},
   "outputs": [
    {
     "name": "stdout",
     "output_type": "stream",
     "text": [
      "{'color': 'Green', 'points': 5, 'y_position': 25, 'x_position': 0}\n",
      "{'color': 'Green', 'points': 5, 'y_position': 25, 'x_position': 0}\n"
     ]
    }
   ],
   "source": [
    "print(alien_0)\n",
    "alien_0['y_position'] = 25\n",
    "alien_0['x_position'] = 0\n",
    "print(alien_0)"
   ]
  },
  {
   "cell_type": "code",
   "execution_count": 5,
   "metadata": {},
   "outputs": [
    {
     "name": "stdout",
     "output_type": "stream",
     "text": [
      "{'points': 5, 'color': 'green'}\n"
     ]
    }
   ],
   "source": [
    "alien_1 = {}\n",
    "alien_1['points'] = 5\n",
    "alien_1['color'] = 'green'\n",
    "print(alien_1)\n"
   ]
  },
  {
   "cell_type": "code",
   "execution_count": 4,
   "metadata": {},
   "outputs": [
    {
     "name": "stdout",
     "output_type": "stream",
     "text": [
      "green\n",
      "yellow\n"
     ]
    }
   ],
   "source": [
    "alien_1 = {'color': 'Green'}\n",
    "alien_1['color'] = 'green'\n",
    "print(alien_1['color'])\n",
    "alien_1['color'] = 'yellow'\n",
    "print(alien_1['color'])"
   ]
  },
  {
   "cell_type": "code",
   "execution_count": 12,
   "metadata": {},
   "outputs": [
    {
     "name": "stdout",
     "output_type": "stream",
     "text": [
      "original x_position: 0\n",
      "New x_position: 2\n"
     ]
    }
   ],
   "source": [
    "alien_2 = {'x_position': 0, 'speed': 'medium'}\n",
    "print('original x_position: ' + str(alien_2['x_position']))\n",
    "if alien_2['speed'] == 'slow':\n",
    "    x_increment = 1\n",
    "elif alien_2['speed'] == 'medium':\n",
    "    x_increment = 2\n",
    "else:\n",
    "    x_increment = 3\n",
    "alien_2['x_position'] += alien_2['x_position'] + x_increment\n",
    "print('New x_position: ' + str(alien_2['x_position']))"
   ]
  },
  {
   "cell_type": "code",
   "execution_count": 13,
   "metadata": {},
   "outputs": [
    {
     "name": "stdout",
     "output_type": "stream",
     "text": [
      "{'x_position': 0}\n"
     ]
    }
   ],
   "source": [
    "alien_3 = {'x_position': 0, 'speed': 'medium'}\n",
    "del alien_3['speed']\n",
    "print(alien_3)"
   ]
  },
  {
   "cell_type": "code",
   "execution_count": 16,
   "metadata": {},
   "outputs": [
    {
     "name": "stdout",
     "output_type": "stream",
     "text": [
      "Sarah's favorite language is C.\n"
     ]
    }
   ],
   "source": [
    "favorite_languages = {\n",
    "    'jen':'python',\n",
    "    'sarah':'c',\n",
    "}\n",
    "\n",
    "print(\"Sarah's favorite language is \" + favorite_languages['sarah'].title() + \".\")"
   ]
  },
  {
   "cell_type": "code",
   "execution_count": 3,
   "metadata": {},
   "outputs": [
    {
     "name": "stdout",
     "output_type": "stream",
     "text": [
      "\n",
      "Key: username\n",
      "Value: Aberr13\n",
      "\n",
      "Key: first\n",
      "Value: Drayzdin\n",
      "\n",
      "Key: last\n",
      "Value: Thompson\n"
     ]
    }
   ],
   "source": [
    "user_0 = {\n",
    "    'username':'Aberr13',\n",
    "    'first':'Drayzdin',\n",
    "    'last':'Thompson',\n",
    "}\n",
    "for key, value in user_0.items():\n",
    "    print(\"\\nKey: \" + key) # \\n is a newline\n",
    "    print(\"Value: \" + value)\n"
   ]
  },
  {
   "cell_type": "code",
   "execution_count": 8,
   "metadata": {},
   "outputs": [
    {
     "name": "stdout",
     "output_type": "stream",
     "text": [
      "Jen\n",
      "Sarah\n",
      "Jen\n",
      "Sarah\n"
     ]
    }
   ],
   "source": [
    "favorite_languages = {\n",
    "    'jen':'python',\n",
    "    'sarah':'c',\n",
    "}\n",
    "\n",
    "for name in favorite_languages.keys():\n",
    "    print(name.title())\n",
    "    \n",
    "for name in favorite_languages:\n",
    "    print(name.title())"
   ]
  },
  {
   "cell_type": "code",
   "execution_count": 9,
   "metadata": {},
   "outputs": [
    {
     "name": "stdout",
     "output_type": "stream",
     "text": [
      "{'color': 'Orange', 'Points': 30}\n",
      "{'color': 'Purple', 'Points': 20}\n",
      "{'color': 'Green', 'Points': 10}\n",
      "{'color': 'Blue', 'Points': 5}\n"
     ]
    }
   ],
   "source": [
    "alien_0 = {'color': 'Orange', 'Points': 30}\n",
    "alien_1 = {'color': 'Purple', 'Points': 20}\n",
    "alien_2 = {'color': 'Green', 'Points': 10}\n",
    "alien_3 = {'color': 'Blue', 'Points': 5}\n",
    "\n",
    "aliens = [alien_0, alien_1, alien_2, alien_3]\n",
    "for alien in aliens:\n",
    "    print(alien)\n",
    "    "
   ]
  },
  {
   "cell_type": "code",
   "execution_count": 10,
   "metadata": {},
   "outputs": [
    {
     "name": "stdout",
     "output_type": "stream",
     "text": [
      "you ordered a Thin-crust pizza with the following toppings:\n",
      "\tmushrooms\n",
      "\tblack olives\n",
      "\tpineapple\n"
     ]
    }
   ],
   "source": [
    "pizza = {\n",
    "    'crust':'Thin',\n",
    "    'toppings':['mushrooms', 'black olives', 'pineapple'],\n",
    "}\n",
    "print('you ordered a ' + pizza['crust'] + \"-crust pizza \" + \"with the following toppings:\")\n",
    "for topping in pizza['toppings']:\n",
    "    print('\\t' + topping) # \\t is a tab\n",
    "    "
   ]
  },
  {
   "cell_type": "code",
   "execution_count": null,
   "metadata": {},
   "outputs": [],
   "source": []
  }
 ],
 "metadata": {
  "kernelspec": {
   "display_name": "Python 3",
   "language": "python",
   "name": "python3"
  },
  "language_info": {
   "codemirror_mode": {
    "name": "ipython",
    "version": 3
   },
   "file_extension": ".py",
   "mimetype": "text/x-python",
   "name": "python",
   "nbconvert_exporter": "python",
   "pygments_lexer": "ipython3",
   "version": "3.7.4"
  }
 },
 "nbformat": 4,
 "nbformat_minor": 2
}
