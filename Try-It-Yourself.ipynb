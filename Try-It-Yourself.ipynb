{
 "cells": [
  {
   "cell_type": "code",
   "execution_count": 10,
   "metadata": {},
   "outputs": [
    {
     "name": "stdout",
     "output_type": "stream",
     "text": [
      "{'first_name': 'Jennifer', 'last_name': 'Thompson', 'age': 39, 'city': 'Tea'}\n"
     ]
    }
   ],
   "source": [
    "#6-1 Person\n",
    "'''\n",
    "Programmer name: Drayzdin T\n",
    "Description: A Dictionary/Biography on Jennifer Thompson\n",
    "'''\n",
    "\n",
    "jennifer_Bio = {\n",
    "    'first_name':'Jennifer',\n",
    "    'last_name':'Thompson',\n",
    "    'age':39,\n",
    "    'city':'Tea',\n",
    "}\n",
    "print(jennifer_Bio)"
   ]
  },
  {
   "cell_type": "code",
   "execution_count": 16,
   "metadata": {},
   "outputs": [
    {
     "name": "stdout",
     "output_type": "stream",
     "text": [
      "My favorite number is 13\n",
      "Jarrod's favorite number is 13\n",
      "Kellen's favorite number is 100\n",
      "kyzek's favorite number is 6\n",
      "Jesses favorite number is 214\n"
     ]
    }
   ],
   "source": [
    "#6-2 Favorite Number\n",
    "'''\n",
    "Programmer name: Drayzdin T\n",
    "Description: A Dictionary of a select amount of peoples favorite number\n",
    "'''\n",
    "number_fav = {\n",
    "    'Drayzdin':13,\n",
    "    'Kellen':100,\n",
    "    'Jarrod':13,\n",
    "    'Jesse':214,\n",
    "    'kyzek':6,\n",
    "}\n",
    "print('My favorite number is ' + str(number_fav['Drayzdin']))\n",
    "print(\"Jarrod's favorite number is \" + str(number_fav['Jarrod']))\n",
    "print(\"Kellen's favorite number is \" + str(number_fav['Kellen']))\n",
    "print(\"kyzek's favorite number is \" + str(number_fav['kyzek']))\n",
    "print(\"Jesses favorite number is \" + str(number_fav['Jesse']))\n"
   ]
  },
  {
   "cell_type": "code",
   "execution_count": 19,
   "metadata": {},
   "outputs": [
    {
     "name": "stdout",
     "output_type": "stream",
     "text": [
      "Boolean Logic: Statement evaluates to true or false.\n",
      "Conditional Statement: if then statement.\n",
      "Iterable: A property of collections that are used to provide elements one at a time and in sequence .\n",
      "Sliced: Selecting a portion of a collection.\n",
      "Tuple: A native type in python that can store a collection but cannot assign new values to individual elements .\n"
     ]
    }
   ],
   "source": [
    "# 6-3 Glossary\n",
    "'''\n",
    "Programmer name: Drayzdin T\n",
    "Description: A Dictionary that works as a glossary\n",
    "'''\n",
    "glossary = {\n",
    "    'Boolean Logic' : 'Statement evaluates to true or false',\n",
    "    'Conditional Statement':'if then statement',\n",
    "    'Iterable': 'A property of collections that are used to provide elements one at a time and in sequence ',\n",
    "    'Sliced':'Selecting a portion of a collection',\n",
    "    'Concatenation':'Attaching two things side-by-side, frequently strings of text',\n",
    "    'Tuple': 'A native type in python that can store a collection but cannot assign new values to individual elements ',\n",
    "}\n",
    "\n",
    "print('Boolean Logic: ' + glossary['Boolean Logic'] + '.')\n",
    "print('Conditional Statement: ' + glossary['Conditional Statement'] + '.')\n",
    "print('Iterable: ' + glossary['Iterable'] + '.')\n",
    "print('Sliced: ' + glossary['Sliced'] + '.')\n",
    "print('Tuple: ' + glossary['Tuple'] + '.')"
   ]
  },
  {
   "cell_type": "code",
   "execution_count": 4,
   "metadata": {},
   "outputs": [
    {
     "name": "stdout",
     "output_type": "stream",
     "text": [
      "\n",
      "Boolean Logic: Statement Evaluates To True Or False\n",
      "\n",
      "Conditional Statement: If Then Statement\n",
      "\n",
      "Iterable: A Property Of Collections That Are Used To Provide Elements One At A Time And In Sequence\n",
      "\n",
      "Sliced: Selecting A Portion Of A Collection\n",
      "\n",
      "Concatenation: Attaching Two Things Side-By-Side, Frequently Strings Of Text\n",
      "\n",
      "Tuple: A Native Type In Python That Can Store A Collection But Cannot Assign New Values To Individual Elements \n",
      "\n",
      "Namespace: The Set Of Variable And Function Names That Have Been Reserved By The Compiler/Interpreter\n",
      "\n",
      "Arguments: The Values That The Programmer Provides In The Function Call\n",
      "\n",
      "Default Value: The Value Of An Argument If The Function Is Called Without That Actual Argument\n"
     ]
    }
   ],
   "source": [
    "#6-4 Glossary_2\n",
    "'''\n",
    "Programmer name: Drayzdin T\n",
    "Description: A Dictionary that works as a glossary\n",
    "'''\n",
    "glossary_2 = {\n",
    "    'Boolean Logic' : 'Statement evaluates to true or false',\n",
    "    'Conditional Statement':'if then statement',\n",
    "    'Iterable': 'A property of collections that are used to provide elements one at a time and in sequence ',\n",
    "    'Sliced':'Selecting a portion of a collection',\n",
    "    'Concatenation':'Attaching two things side-by-side, frequently strings of text',\n",
    "    'Tuple': 'A native type in python that can store a collection but cannot assign new values to individual elements ',\n",
    "    'namespace':'The set of variable and function names that have been reserved by the compiler/interpreter',\n",
    "    'Arguments':'The values that the programmer provides in the function call',\n",
    "    'Default Value':'The value of an argument if the function is called without that actual argument',\n",
    "    'Iterable':'A property of collections that are used to provide elements one at a time and in sequence',\n",
    "}\n",
    "\n",
    "for keys, values in glossary_2.items():\n",
    "    print(\"\\n\" + keys.title() + ': ' + values.title())\n"
   ]
  },
  {
   "cell_type": "code",
   "execution_count": 6,
   "metadata": {},
   "outputs": [
    {
     "name": "stdout",
     "output_type": "stream",
     "text": [
      "The Nile River is located in Egypt\n",
      "The Big Sioux River is located in The US\n",
      "The Congo River is located in Africa\n"
     ]
    }
   ],
   "source": [
    "#6-5 Rivers\n",
    "'''\n",
    "Programmer name: Drayzdin T\n",
    "Description: A Dictionary that lists a river and its location \n",
    "'''\n",
    "river = {\n",
    "    'Nile River':'Egypt',\n",
    "    'Big Sioux River':'The US',\n",
    "    'Congo River':'Africa',\n",
    "}\n",
    "for keys, values in river.items():\n",
    "    print('The ' + keys + ' is located in ' + values)\n"
   ]
  },
  {
   "cell_type": "code",
   "execution_count": 13,
   "metadata": {},
   "outputs": [
    {
     "name": "stdout",
     "output_type": "stream",
     "text": [
      "Thank you for taking our poll Drayzdin\n",
      "Kellen Please take the poll\n",
      "Thank you for taking our poll Jesse\n"
     ]
    }
   ],
   "source": [
    "#6-6 Polling\n",
    "'''\n",
    "Programmer name: Drayzdin T\n",
    "Description: A Dictionary with a few people and their favorite language\n",
    "'''\n",
    "favorite_languages = {\n",
    "    'Drayzdin':'python',\n",
    "    'Kellen': \" \",\n",
    "    'Jesse':'Python',\n",
    "}\n",
    "for keys, values in favorite_languages.items():\n",
    "    if values == \" \":\n",
    "        print(keys.title() + ' Please take the poll')\n",
    "    else:\n",
    "        print('Thank you for taking our poll ' + keys.title())\n"
   ]
  },
  {
   "cell_type": "code",
   "execution_count": 20,
   "metadata": {},
   "outputs": [
    {
     "name": "stdout",
     "output_type": "stream",
     "text": [
      "Species: Shih tzu\n",
      "Owner: Jennifer\n",
      "Species: Turtle\n",
      "Owner: Jerald\n",
      "Species: Golden Retriever\n",
      "Owner: Bob\n",
      "Species: cat\n",
      "Owner: Sara\n"
     ]
    }
   ],
   "source": [
    "#6-8 Pets\n",
    "'''\n",
    "Programmer name: Drayzdin T\n",
    "Description: Dictionaries filled with info on pets \n",
    "'''\n",
    "herky = {'Species':'Shih tzu', 'Owner':'Jennifer'}\n",
    "chewtle = {'Species':'Turtle', 'Owner':'Jerald'}\n",
    "hunter = {'Species':'Golden Retriever', 'Owner':'Bob'}\n",
    "rose = {'Species':'cat', 'Owner':'Sara'}\n",
    "pets = [herky, chewtle, hunter, rose]\n",
    "\n",
    "for pet in pets:\n",
    "    for key, value in pet.items():\n",
    "        print(key + ': ' + value)\n"
   ]
  }
 ],
 "metadata": {
  "kernelspec": {
   "display_name": "Python 3",
   "language": "python",
   "name": "python3"
  },
  "language_info": {
   "codemirror_mode": {
    "name": "ipython",
    "version": 3
   },
   "file_extension": ".py",
   "mimetype": "text/x-python",
   "name": "python",
   "nbconvert_exporter": "python",
   "pygments_lexer": "ipython3",
   "version": "3.7.4"
  }
 },
 "nbformat": 4,
 "nbformat_minor": 2
}
